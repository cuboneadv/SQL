{
  "nbformat": 4,
  "nbformat_minor": 0,
  "metadata": {
    "colab": {
      "provenance": []
    },
    "kernelspec": {
      "name": "python3",
      "display_name": "Python 3"
    },
    "language_info": {
      "name": "python"
    }
  },
  "cells": [
    {
      "cell_type": "code",
      "execution_count": null,
      "metadata": {
        "id": "XmdYPFBDHJnV"
      },
      "outputs": [],
      "source": [
        "SELECT CONCAT(QUARTER(DIFFERENTIATION_DATE),'Q') AS QUARTER, COUNT(*) AS ECOLI_COUNT\n",
        "FROM ECOLI_DATA\n",
        "GROUP BY QUARTER\n",
        "ORDER BY QUARTER"
      ]
    }
  ]
}